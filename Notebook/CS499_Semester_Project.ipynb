{
 "cells": [
  {
   "cell_type": "code",
   "execution_count": 47,
   "metadata": {
    "collapsed": true
   },
   "outputs": [],
   "source": [
    "# Import libraries needed for notebook\n",
    "import csv\n",
    "import numpy as np\n",
    "import matplotlib\n",
    "import matplotlib.pyplot as plt\n",
    "import networkx as nx\n",
    "import random as rnd"
   ]
  },
  {
   "cell_type": "code",
   "execution_count": 51,
   "metadata": {
    "collapsed": true
   },
   "outputs": [],
   "source": [
    "def retrieve_data(csv_file, game_title):\n",
    "    \"\"\"\n",
    "        Read the data in the csv file and store it in a dictionary.\n",
    "        \n",
    "        Parameters\n",
    "        ----------\n",
    "        csv_file : str\n",
    "        game_title : str\n",
    "        \n",
    "        Returns\n",
    "        -------\n",
    "        channel_dict\n",
    "            A dictionary containing the channel and number of times\n",
    "    \"\"\"\n",
    "    channel_dict = {}\n",
    "    reader_list = []\n",
    "    \n",
    "    # Open the csv file and store into a list\n",
    "    with open(csv_file, 'r') as fp:\n",
    "        reader = csv.reader(fp)\n",
    "        for row in reader:\n",
    "            reader_list.append(row)\n",
    "        \n",
    "    # For each line in the list\n",
    "    for row in reader_list:\n",
    "        \n",
    "        # Retrieve the channel id from the line\n",
    "        line_str = str(row).split(';')\n",
    "        channel_name = line_str[3]\n",
    "        channel_count = 0\n",
    "        game_dict = {}\n",
    "        \n",
    "        # If the channel id is not a key in the dictionary, do the following\n",
    "        if channel_name not in channel_dict:\n",
    "            \n",
    "            # Calculate how many times a channel id appears in the game list\n",
    "            for row1 in reader_list:\n",
    "                if channel_name in str(row1):\n",
    "                    channel_count += 1\n",
    "                    \n",
    "            # Insert the game title and count to the dictionary\n",
    "            game_dict[game_title] = channel_count\n",
    "            channel_dict[channel_name] = game_dict\n",
    "            \n",
    "    return channel_dict"
   ]
  },
  {
   "cell_type": "code",
   "execution_count": 73,
   "metadata": {
    "collapsed": true
   },
   "outputs": [],
   "source": [
    "def update_dict(dict1, dict2):\n",
    "    \"\"\"\n",
    "        Updates the dictionary by adding \n",
    "        \n",
    "        Parameters\n",
    "        ----------\n",
    "        dict1 : dict\n",
    "        dict2 : dict\n",
    "        \n",
    "        Returns\n",
    "        -------\n",
    "        dict1\n",
    "    \"\"\"\n",
    "    \n",
    "    # Get the list of keys from the second dictionary\n",
    "    keys_list = list(dict2.keys())\n",
    "    \n",
    "    for key in keys_list:\n",
    "        # If the key exists in the first dictionary, add the value from the second dictionary to it\n",
    "        if key in dict1:\n",
    "            # Get the current inner dictionary from dict1\n",
    "            curr_list = dict1.get(key)\n",
    "            curr_list.update(dict2.get(key))\n",
    "            \n",
    "            # Add the updated list back into dict1\n",
    "            dict1[key] = curr_list\n",
    "        \n",
    "        # Else, make it a new key in the first dictionary\n",
    "        else:\n",
    "            dict1[key] = dict2.get(key)\n",
    "            \n",
    "    return dict1"
   ]
  },
  {
   "cell_type": "code",
   "execution_count": 70,
   "metadata": {
    "collapsed": true
   },
   "outputs": [],
   "source": [
    "def generate_networks(game_dict, game_title):\n",
    "    \"\"\"\n",
    "        Generate the graph using the data\n",
    "        \n",
    "        Parameters\n",
    "        ----------\n",
    "        game_dict : dict\n",
    "        game_title : str\n",
    "    \"\"\"\n",
    "    # Create empty graph and add game node to graph\n",
    "    G = nx.Graph()\n",
    "    G.add_node(game_title)\n",
    "    count = 0\n",
    "    \n",
    "    for item in game_dict.keys():\n",
    "        if count < 50:\n",
    "            \n",
    "        \n",
    "    \n",
    "    plt.subplot()\n",
    "    nx.draw(G, node_size=100, with_labels=True, pos=nx.spring_layout(G, k=0.15,iterations=20))\n",
    "    plt.show()"
   ]
  },
  {
   "cell_type": "code",
   "execution_count": 74,
   "metadata": {},
   "outputs": [
    {
     "name": "stdout",
     "output_type": "stream",
     "text": [
      "{\"FeelGamingTV']\": {'RE7': 3}, \"GAMER SNACK | ???? ????']\": {'RE7': 1}, \"Royalistiq']\": {'RE7': 1}, \"MiawAug']\": {'RE7': 3}, \"NoThxTV']\": {'RE7': 1}, \"Kuplinov ? Play']\": {'RE7': 12}, \"MaxielPRO']\": {'RE7': 1}, 'ExVSK\"]': {'RE7': 2}, \"Sev']\": {'RE7': 4}, \"Easter GamersTv']\": {'RE7': 10}, \"funkyblackcat']\": {'RE7': 7}, \"Overman']\": {'RE7': 2}, \"TheGideonGames']\": {'RE7': 1}, \"Quizzle']\": {'RE7': 1}, \"SOMETHING NEW']\": {'RE7': 1}, \"Kakaxe Rataque']\": {'RE7': 1}, \"Lord Frieza']\": {'RE7': 1}, \"ThinkMindProductions']\": {'RE7': 2}, \"CANAL DO LUAN']\": {'RE7': 1, 'Dark Souls': 1}, \"PlayStation Europe']\": {'RE7': 1}, \"V?jas']\": {'RE7': 4}, \"Seu Pimenta Tv']\": {'RE7': 1, 'Dark Souls': 4}, \"AvidExpert']\": {'RE7': 1}, \"Oyun Delisi']\": {'RE7': 2}, \"Shesez']\": {'RE7': 1}, \"Funhaus']\": {'RE7': 1, 'Dark Souls': 1}, \"Enmynest']\": {'RE7': 2}, \"Dobryak']\": {'RE7': 1, 'Dark Souls': 1}, \"Sut Takova']\": {'RE7': 2}, \"The Elk Enigma']\": {'RE7': 1}, \"Gamerpillar']\": {'RE7': 1}, \"FantaBobGames']\": {'RE7': 1}, \"IrakliGamer']\": {'RE7': 1}, \"2ndJerma']\": {'RE7': 1}, \"GameGrumps']\": {'RE7': 1}, \"Evgenirus']\": {'RE7': 2}, \"SinglePlayerNacho']\": {'RE7': 2}, 'Fedupsamania\"]': {'RE7': 1}, \"Gronkh']\": {'RE7': 15}, \"2J Games']\": {'RE7': 3, 'Dark Souls': 2}, \"JuegaGerman']\": {'RE7': 8}, \"Feelfifa family']\": {'RE7': 1}, \"Zombie V4 [ Ti?n Xinh Trai ]']\": {'RE7': 1}, \"Saudi Gamer - ????? ????']\": {'RE7': 1}, \"UpUpDownDown']\": {'RE7': 1}, \"Hellbent']\": {'RE7': 1}, \"Dave Gaming']\": {'RE7': 4}, \"ElectronicDesireGE']\": {'RE7': 8}, \"Jahrein']\": {'RE7': 1}, \"Menos Trece']\": {'RE7': 3}, \"Markiplier']\": {'RE7': 1}, \"BRKsEDU']\": {'RE7': 1, 'Dark Souls': 1}, \"RobosergTV']\": {'RE7': 1}, \"HEARTROCKER']\": {'RE7': 1, 'Dark Souls': 1}, \"John Wolfe']\": {'RE7': 4}, \"Corrupted']\": {'RE7': 1}, \"Fredericma45']\": {'RE7': 2}, \"TheMFW']\": {'RE7': 7}, \"Games EduUu']\": {'RE7': 6}, \"Jove']\": {'RE7': 2}, \"`pSYcHo']\": {'RE7': 1}, \"8-BitRyan']\": {'RE7': 5}, \"Wankil Studio - Les VOD']\": {'RE7': 1}, \"MaxMRM GAMEPLAY']\": {'RE7': 5}, \"Jannine Weigel']\": {'RE7': 2}, \"Jesse Cox']\": {'RE7': 3}, \"Squni I Best of Gaming']\": {'RE7': 1}, \"Lucky Salamander']\": {'RE7': 1}, \"Tr?c Ti?p Game']\": {'RE7': 7}, 'iBerleezy\"]': {'RE7': 1}, \"Theslayer360']\": {'RE7': 7}, \"BestofHWSQ']\": {'RE7': 1}, \"TheRPGMinx']\": {'RE7': 2}, 'MaxMRM GAMEPLAY\"]': {'RE7': 1}, \"BlackSilverUFA']\": {'RE7': 2}, \"SwingPoynt']\": {'RE7': 2}, \"OmegaGamesWiki™']\": {'RE7': 1}, \"Fedupsamania']\": {'RE7': 1}, \"quaz9']\": {'RE7': 1, 'Dark Souls': 1}, \"RicharBetaCode']\": {'RE7': 6}, \"xTGE']\": {'RE7': 1}, \"ElAnalistaDeBits']\": {'RE7': 3}, 'Where\\'s Barry\"]': {'RE7': 1}, \"Over Noob']\": {'RE7': 1}, \"Lakko']\": {'RE7': 7}, \"Monstrum Gear']\": {'RE7': 1}, \"Happy Wolf']\": {'RE7': 1}, \"Gema Show Indo']\": {'RE7': 1}, 'Nabil \\'Aiekillu\\' Lahrech\"]': {'RE7': 1}, \"Lenarr Young']\": {'RE7': 1}, \"Inked Cat']\": {'RE7': 1}, \"CharmerPC Tutoriales']\": {'RE7': 1}, \"MrBboy45']\": {'RE7': 1}, \"Sheshounet']\": {'RE7': 1}, \"BigCracker????']\": {'RE7': 1}, 'Agraelovo Let\\'s Play Šílenství\"]': {'RE7': 2, 'Dark Souls': 1}, \"MOARPSYK']\": {'RE7': 1}, \"??????? ???????? ?? C-c-combo Breaker!']\": {'RE7': 4}, \"???? Gaming']\": {'RE7': 1}, \"Rockstar Trophy Hunter']\": {'RE7': 1}, 'Gronkh\"]': {'RE7': 2}, \"Gaming4GamersTV']\": {'RE7': 7}, \"JP GIROUX']\": {'RE7': 1}, \"Multiplayer']\": {'RE7': 1}, \"VEGETTA777']\": {'RE7': 3}, \"Cellbit Jogando']\": {'RE7': 1}, \"PELEGAMES - SÉRIES E TUTORIAIS DE FIFA']\": {'RE7': 1}, \"Herr Currywurst']\": {'RE7': 1}, \"Monsieur Plouf']\": {'RE7': 1, 'Dark Souls': 2}, \"MPLiquid']\": {'RE7': 1}, 'Sarazar\"]': {'RE7': 1}, \"TOMAS']\": {'RE7': 3}, \"NetPuma']\": {'RE7': 1}, \"BiohazardGeek']\": {'RE7': 1}, \"Lusor Koeffizient']\": {'RE7': 1}, \"At0mium']\": {'RE7': 1}, \"Gellones']\": {'RE7': 1}, 'Gameblog\"]': {'RE7': 1}, \"GaBBoDSQ']\": {'RE7': 1}, \"AnalogFoundry']\": {'RE7': 1}, \"????? rempc by']\": {'RE7': 1, 'Dark Souls': 1}, \"TheBrainDit']\": {'RE7': 5}, \"Zangado']\": {'RE7': 1, 'Dark Souls': 3}, \"BTURBO']\": {'RE7': 1}, \"iTownGamePlay - Tu canal para ser feliz']\": {'RE7': 2}, \"Enes Batur']\": {'RE7': 1}, 'Achievement Hunter\"]': {'RE7': 2}, \"Otherworld']\": {'RE7': 1, 'Dark Souls': 1}, \"arhn.eu']\": {'RE7': 1}, \"Quei Due Sul Server']\": {'RE7': 1, 'Dark Souls': 1}, \"Paqpa']\": {'RE7': 1}, \"Erpan1140']\": {'RE7': 1}, \"Samara Redway']\": {'RE7': 1}, \"DamianooTV']\": {'RE7': 1}, \"Montalvaao']\": {'RE7': 1}, 'Bugged DSP Mechanics\"]': {'RE7': 1}, \"Enis Kirazoglu']\": {'RE7': 2}, 'Video Games Source\"]': {'RE7': 1}, \"?XCV//?']\": {'RE7': 1}, \"El Rincón De Giorgio']\": {'RE7': 5}, \"ZarcortGame']\": {'RE7': 1}, \"FattyPillowTV']\": {'RE7': 2}, \"Vargskelethor Uncut: Full Joel Streams']\": {'RE7': 1}, \"octamm gaming']\": {'RE7': 1}, \"Bruno Correa']\": {'RE7': 1}, \"alexelcapo']\": {'RE7': 3, 'Dark Souls': 1}, \"Fast Games Solutions']\": {'RE7': 1}, \"PersNikity']\": {'RE7': 1}, \"LaeppaVika']\": {'RE7': 2}, \"Joshvictus']\": {'RE7': 1}, \"rameCadenas']\": {'RE7': 1}, \"Universo Paralelo']\": {'RE7': 1}, 'At0mium\"]': {'RE7': 3}, \"LMDShow']\": {'RE7': 1}, \"DigitalWar']\": {'RE7': 1}, \"SINXPLAYSBR']\": {'RE7': 6}, \"RicFazeres']\": {'RE7': 4}, \"Joey Mac']\": {'RE7': 1}, \"JustKiddingGamer']\": {'RE7': 1}, \"Jano Juega']\": {'RE7': 1}, \"TheGamesEntertainer']\": {'RE7': 3}, \"Xodaaaa']\": {'RE7': 2}, \"RobleisIUTU']\": {'RE7': 1}, \"CBGames']\": {'RE7': 1}, 'vikingsman18\"]': {'RE7': 1}, \"ToInfinityGaming']\": {'RE7': 1}, \"M3KKY']\": {'RE7': 1}, \"Node']\": {'RE7': 1}, \"?????']\": {'RE7': 3, 'Dark Souls': 23}, \"Mr. Marmok']\": {'RE7': 1, 'Dark Souls': 1}, \"PokoPow']\": {'RE7': 1}, \"PunchNshoot']\": {'RE7': 4}, \"Permítanme Ser Franco']\": {'RE7': 1}, \"HemanT_T']\": {'RE7': 1}, \"Senshi']\": {'RE7': 1}, 'Easter GamersTv\"]': {'RE7': 1}, 'FantaBobGames\"]': {'RE7': 1}, \"I PARCO GIOCHI']\": {'RE7': 1}, 'GaBBoDSQ\"]': {'RE7': 1}, \"Barricade2091']\": {'RE7': 2}, \"Gritty Urban Saga']\": {'RE7': 2}, \"Ster/Jerma Stream Archive']\": {'RE7': 1}, 'iMAVERIQ\"]': {'RE7': 1}, \"Roof1975']\": {'RE7': 1}, \"DSPGaming']\": {'RE7': 1}, \"OpsCreeDGames']\": {'RE7': 1}, \"MathChief - Gameplay & Trailers!']\": {'RE7': 4}, \"SEPHIROTHJOSE']\": {'RE7': 1}, \"wuant']\": {'RE7': 1}, \"GENuINE993']\": {'RE7': 4}, \"MYM ALK4PON3']\": {'RE7': 1}, \"ValbuenaGames']\": {'RE7': 1}, \"PP Playstation Player']\": {'RE7': 1}, 'Gabby16bit\"]': {'RE7': 1}, \"ZomBo Land GamePlay']\": {'RE7': 1}, \"???']\": {'RE7': 7}, 'Kubz Scouts\"]': {'RE7': 1}, \"TryKevinHard 2.0']\": {'RE7': 1}, 'RanguGamer\"]': {'RE7': 1}, 'Superbrioche666\"]': {'RE7': 1}, \"TheVR']\": {'RE7': 3}, \"Frigiel']\": {'RE7': 1}, \"ENM Gaming']\": {'RE7': 1}, \"? VictorKratos ?']\": {'RE7': 1}, \"Adam Campbell']\": {'RE7': 1}, \"OfficialGamesMailRu']\": {'RE7': 1}, 'Tomoch\"]': {'RE7': 1}, \"Adrenaline']\": {'RE7': 1, 'Dark Souls': 1}, \"GamerForEternity']\": {'RE7': 3}, \"TFS Gaming']\": {'RE7': 1}, \"Alina Rin']\": {'RE7': 1, 'Dark Souls': 1}, 'MrJuniorFTW\"]': {'RE7': 1}, \"Boss Fight Database']\": {'RE7': 1}, \"DIAWANTED']\": {'RE7': 1}, \"Konzolvilág Ricsi']\": {'RE7': 1}, \"Kudel']\": {'RE7': 1}, \"IBeJamz']\": {'RE7': 1}, \"LunarGaming']\": {'RE7': 1}, \"NamelessDreadx37x']\": {'RE7': 1}, 'CjuGames\"]': {'RE7': 1}, \"YOGSCAST Hannah']\": {'RE7': 1}, \"ElFedeGames']\": {'RE7': 1}, \"Six String']\": {'RE7': 1}, \"Laowu??']\": {'RE7': 1}, \"KingsOfFailsShow']\": {'RE7': 1}, \"Sips']\": {'RE7': 1}, \"Kubz Scouts']\": {'RE7': 1}, \"Itsreal85Gaming']\": {'RE7': 1}, 'Frankenstein Let\\'s Play\"]': {'RE7': 1}, \"SHIMOROSHOW']\": {'RE7': 1}, \"TwinZip']\": {'RE7': 1}, \"GameplayOnly - Trailers & Gameplay']\": {'RE7': 3}, \"Duxativa']\": {'RE7': 1}, 'EinQuantumPro\"]': {'RE7': 1}, \"windy31']\": {'RE7': 1}, \"BeardBear']\": {'RE7': 2}, \"iRaphahell']\": {'RE7': 1}, \"AlexPozitiv']\": {'RE7': 1}, \"IFreeMz']\": {'RE7': 1}, \"RusGameTactics']\": {'RE7': 2}, \"randomChievos']\": {'RE7': 1}, \"IGN France']\": {'RE7': 1}, 'MartinSpielt\"]': {'RE7': 1}, \"SullyGaming']\": {'RE7': 1}, \"MacedoniaGamingNetwork - MGN']\": {'RE7': 1}, \"NicoBichoko']\": {'RE7': 1}, \"TheWillGamer95']\": {'RE7': 1}, \"?FavijTV™']\": {'RE7': 1}, 'SEROTHS\"]': {'RE7': 1}, \"Rob Cram']\": {'RE7': 1}, \"AceEndLegend']\": {'RE7': 1}, \"MKIceAndFire']\": {'RE7': 1}, \"RockLeeSmile']\": {'RE7': 1}, \"MaxiLunaPMY']\": {'RE7': 1}, \"H0llyLP']\": {'RE7': 1}, \"Juanpa302']\": {'RE7': 1}, \"Capcom France']\": {'RE7': 1}, \"PlayStation']\": {'RE7': 2}, \"SteelBook']\": {'RE7': 2}, \"????? ????????']\": {'RE7': 2}, \"PlayStation DACH']\": {'RE7': 1}, \"Push Square']\": {'RE7': 1}, \"lzuniy']\": {'RE7': 1}, \"penguinz0']\": {'RE7': 1}, \"Azerrz']\": {'RE7': 1}, \"SoftpomzGaming']\": {'RE7': 1}, \"Velberan']\": {'RE7': 1}, 'LetsPlay\"]': {'RE7': 1}, \"AceBoogz Gaming']\": {'RE7': 1}, \"Ghost Murmur']\": {'RE7': 1}, 'Le Bled\\'Art\"]': {'RE7': 1}, \"Gamers Unleashed X']\": {'RE7': 1}, \"StopGame Live']\": {'RE7': 1}, \"Jimmyqballs']\": {'RE7': 1}, \"PSX Brasil']\": {'RE7': 1}, \"noah graham']\": {'Dark Souls': 1}, \"Okami Kirios6854']\": {'Dark Souls': 4}, \"Mergim Krasniqi']\": {'Dark Souls': 1}, \"IGA STAR']\": {'Dark Souls': 37}, \"?? TV [G]']\": {'Dark Souls': 1}, \"Jarryn']\": {'Dark Souls': 1}, \"????']\": {'Dark Souls': 42}, \"Simte']\": {'Dark Souls': 1}, \"nekolai huggerz']\": {'Dark Souls': 1}, \"Lord Ghoul123']\": {'Dark Souls': 1}, \"Rus Beard']\": {'Dark Souls': 1}, \"AlexVenom474']\": {'Dark Souls': 1}, \"The Drawfee Channel']\": {'Dark Souls': 2}, \"VES\\\\\\\\Gaming']\": {'Dark Souls': 3}, \"Franco arturocipolluto']\": {'Dark Souls': 2}, \"The Computer Game Show']\": {'Dark Souls': 3}, \"Wilson Diego']\": {'Dark Souls': 1}, \"EDENPEYT58']\": {'Dark Souls': 1}, \"Xander1097']\": {'Dark Souls': 1}, \"ICE_MAN']\": {'Dark Souls': 1}, \"Powerbazinga TV']\": {'Dark Souls': 6}, \"PietSmiet']\": {'Dark Souls': 3}, \"Quei Due Sul Server 2']\": {'Dark Souls': 2}, \"GameCraftOP']\": {'Dark Souls': 1}, \"Wolf GamingCZ']\": {'Dark Souls': 1}, \"Pepe Forner']\": {'Dark Souls': 1}, \"dzirt dzirt']\": {'Dark Souls': 1}, \"EvgenOnePlay']\": {'Dark Souls': 3}, \"Venomous Salim']\": {'Dark Souls': 1}, \"???? STEAM ?????????']\": {'Dark Souls': 4}, \"Inpa']\": {'Dark Souls': 3}, \"Eurogamerspain']\": {'Dark Souls': 3}, \"Dogl']\": {'Dark Souls': 1}, \"Graphtag']\": {'Dark Souls': 1}, \"GranDzhem Gaming']\": {'Dark Souls': 6}, \"Games Done Quick']\": {'Dark Souls': 4}, 'Powerbazinga TV\"]': {'Dark Souls': 2}, \"Fercosion']\": {'Dark Souls': 1}, \"Dredera Z']\": {'Dark Souls': 1}, \"Rajkonen']\": {'Dark Souls': 1}, \"?????????? ???']\": {'Dark Souls': 2}, \"Iron Pineapple']\": {'Dark Souls': 1}, \"Grzechu 40']\": {'Dark Souls': 1}, \"Acre']\": {'Dark Souls': 9}, \"TheVR Streamek Official']\": {'Dark Souls': 4}, \"Friends Without Benefits']\": {'Dark Souls': 1}, \"WhatCulture Gaming']\": {'Dark Souls': 1}, \"Grand POOBear']\": {'Dark Souls': 1}, \"Heroes Of The Light']\": {'Dark Souls': 1}, \"Silver Mont']\": {'Dark Souls': 3}, \"Abject']\": {'Dark Souls': 1}, \"masterlasheron']\": {'Dark Souls': 1}, \"Mad Highlights']\": {'Dark Souls': 2}, \"Comrade Supreme']\": {'Dark Souls': 1}, \"Alone Wave']\": {'Dark Souls': 1}, \"DeiGamer']\": {'Dark Souls': 2}, \"HadesPlays']\": {'Dark Souls': 4}, \"OneKing']\": {'Dark Souls': 1}, \"imCervero']\": {'Dark Souls': 1}, \"PeachSaliva']\": {'Dark Souls': 2}, 'Zay Jonathan\"]': {'Dark Souls': 1}, 'Need Backup !\"]': {'Dark Souls': 1}, \"LORE']\": {'Dark Souls': 2}, \"MythosOfPlaying']\": {'Dark Souls': 2}, \"Lar dos Games']\": {'Dark Souls': 2}, \"Sabaku no Maiku']\": {'Dark Souls': 3}, \"TheMasterOfDooM']\": {'Dark Souls': 1}, \"ZagrajnikTV']\": {'Dark Souls': 1}, \"CustomStories']\": {'Dark Souls': 5}, \"4game']\": {'Dark Souls': 1}, \"ERA Games']\": {'Dark Souls': 3}, \"GetFuckShow']\": {'Dark Souls': 2}, \"Escapist']\": {'Dark Souls': 5}, \"ElFikuWTF!']\": {'Dark Souls': 1}, \"The Shitpost King']\": {'Dark Souls': 1}, \"GrinKing']\": {'Dark Souls': 1}, \"Anthony [TRP]']\": {'Dark Souls': 1}, \"BenzaieLive']\": {'Dark Souls': 2}, \"Askaron']\": {'Dark Souls': 1}, \"MythosOfStreaming']\": {'Dark Souls': 2}, \"The Leviafun']\": {'Dark Souls': 1}, \"WatchMojo.com']\": {'Dark Souls': 1}, \"GameInOnline']\": {'Dark Souls': 1}, 'AlmazanKitchen\"]': {'Dark Souls': 1}, \"Zirblake YT']\": {'Dark Souls': 1}, \"QUICKSAVE']\": {'Dark Souls': 1}, \"LeStream Replay']\": {'Dark Souls': 1}, \"Brue Computing']\": {'Dark Souls': 1}, \"IGM']\": {'Dark Souls': 1}, \"Jovem Nerd']\": {'Dark Souls': 3}, \"Wulf2k9']\": {'Dark Souls': 1}, \"Likoris']\": {'Dark Souls': 7}, \"GameModsVault']\": {'Dark Souls': 1}, \"Next Luxury']\": {'Dark Souls': 1}, \"Opia']\": {'Dark Souls': 1}, \"Santiago Santiago.']\": {'Dark Souls': 1}, \"Nemesis']\": {'Dark Souls': 1}, \"Jeviok']\": {'Dark Souls': 1}, \"my0ct']\": {'Dark Souls': 1}, \"GameStar Hungary']\": {'Dark Souls': 1}, \"WhyMe758']\": {'Dark Souls': 7}, \"98DEMAKE']\": {'Dark Souls': 1}, \"cloudyheart1964']\": {'Dark Souls': 1}, \"PoleznyiBes']\": {'Dark Souls': 6}, \"MikeimInternet']\": {'Dark Souls': 1}, \"Ordinary Gaming Studio???????']\": {'Dark Souls': 1}, \"Cheps Gaming']\": {'Dark Souls': 1}, \"Chen Long']\": {'Dark Souls': 1}, \"Creeps Plays']\": {'Dark Souls': 1}, \"TheSalamanderGamer']\": {'Dark Souls': 2}, \"GamingBolt']\": {'Dark Souls': 1}, \"Victor Of Astora']\": {'Dark Souls': 1}, \"?????? Gamer']\": {'Dark Souls': 1}, \"IamMrLove']\": {'Dark Souls': 1}, \"Kaont']\": {'Dark Souls': 1}, 'Hrej.cz\"]': {'Dark Souls': 1}, \"??RangerEast']\": {'Dark Souls': 2}, \"Frisazo TV']\": {'Dark Souls': 1}, \"Rich Luck Channel']\": {'Dark Souls': 1}, \"?????????']\": {'Dark Souls': 7}, \"Game Doctor']\": {'Dark Souls': 5}, \"TheikACR']\": {'Dark Souls': 1}, \"wolfgang']\": {'Dark Souls': 1}, \"????????']\": {'Dark Souls': 11}, \"GEMAPLYS']\": {'Dark Souls': 1}, \"Thomas Duarte']\": {'Dark Souls': 1}, \"MythosOfGaming']\": {'Dark Souls': 1}, \"GAMER ANIME']\": {'Dark Souls': 1}, \"Seanabonza']\": {'Dark Souls': 1}, \"Sqotch \\\\'Studios\\\\'']\": {'Dark Souls': 1}, \"??????? ?.']\": {'Dark Souls': 1}, \"Master Quest Gaming']\": {'Dark Souls': 1}, \"megaquest']\": {'Dark Souls': 1}, \"Hutts']\": {'Dark Souls': 1}, \"???????']\": {'Dark Souls': 15}, \"KingHenryXIII']\": {'Dark Souls': 1}, \"x90z75ek2']\": {'Dark Souls': 1}, \"NOPi GAMER']\": {'Dark Souls': 4}, \"DanielMasterCrew']\": {'Dark Souls': 2}, \"Parodiadera']\": {'Dark Souls': 1}, \"josuedss12 gamer']\": {'Dark Souls': 1}, \"ilGattoSulTubo']\": {'Dark Souls': 2}, \"ALEKSEY VM']\": {'Dark Souls': 1}, \"TVG Live']\": {'Dark Souls': 1}, \"loloperroverde']\": {'Dark Souls': 1}, \"Bacon Shreds']\": {'Dark Souls': 1}, \"rokamo']\": {'Dark Souls': 1}, \"Chokoloco']\": {'Dark Souls': 1}, \"UNITEAM / ??????']\": {'Dark Souls': 1}, \"GamerS SoulS']\": {'Dark Souls': 1}, \"Zanoth']\": {'Dark Souls': 1}, \"SuperCsubi - A Dühöng? ?rmedve']\": {'Dark Souls': 1}, \"Tat Story']\": {'Dark Souls': 1}, 'BenzaieLive\"]': {'Dark Souls': 1}, \"Kvodan Wj']\": {'Dark Souls': 3}, \"???? ????']\": {'Dark Souls': 16}, 'Ordinary Gaming Studio???????\"]': {'Dark Souls': 2}, \"ThomisTV']\": {'Dark Souls': 1}, \"ForsenTV']\": {'Dark Souls': 1}, \"Tigry86']\": {'Dark Souls': 1}, \"Sedge Sedgicus']\": {'Dark Souls': 1}, \"OxyDoRe']\": {'Dark Souls': 1}, \"vrhuman']\": {'Dark Souls': 1}, \"El Poder del AnDrOiDe VeRdE']\": {'Dark Souls': 1}, 'SKXproduction\"]': {'Dark Souls': 1}, \"????? ???']\": {'Dark Souls': 5}, \"Simon Puech']\": {'Dark Souls': 1}, \"Ray Dhimitri']\": {'Dark Souls': 1}, \"Splinterbee']\": {'Dark Souls': 1}, \"KenStarSol']\": {'Dark Souls': 1}, \"Mitch L']\": {'Dark Souls': 1}, \"ArcadeCloud']\": {'Dark Souls': 1}, \"ParagonDS']\": {'Dark Souls': 1}, \"??????? ????']\": {'Dark Souls': 15}, \"Coya Raza']\": {'Dark Souls': 1}, \"Best Of Sardoche']\": {'Dark Souls': 1}, \"LegitSniper']\": {'Dark Souls': 1}, \"GameZOiled']\": {'Dark Souls': 1}, \"Talking Vidya']\": {'Dark Souls': 2}, \"Outconsumer']\": {'Dark Souls': 9}, \"d7oomy_999 | ????????']\": {'Dark Souls': 2}, 'JayJay Golden\"]': {'Dark Souls': 1}, \"Dost Kayao?lu']\": {'Dark Souls': 3}, \"Jaidefinichon GOTH']\": {'Dark Souls': 8}, \"YotobiGames']\": {'Dark Souls': 8}, \"Keradan Bonfire']\": {'Dark Souls': 2}, \"La Caverna del Gamer']\": {'Dark Souls': 7}, \"Xeno']\": {'Dark Souls': 1}, \"FullMcd']\": {'Dark Souls': 1}, \"Movie Muscle']\": {'Dark Souls': 1}, \"Cow Chop']\": {'Dark Souls': 3}, 'SQUEEZIE\"]': {'Dark Souls': 1}, \"GearBlastGaming']\": {'Dark Souls': 1}, \"Orion - Web Dubbing']\": {'Dark Souls': 1}, \"Damianizando']\": {'Dark Souls': 1}, \"Emanuele Campigli (ZeroMic)']\": {'Dark Souls': 1}, \"DadoBax - Feel the VideoGames']\": {'Dark Souls': 2}, \"Rocket Beans TV']\": {'Dark Souls': 1}, 'gameranx\"]': {'Dark Souls': 1}, 'psykomatik\"]': {'Dark Souls': 1}, \"AstronautPLAY']\": {'Dark Souls': 1}, \"CharleZ BronsoN']\": {'Dark Souls': 7}, \"XOver TV']\": {'Dark Souls': 1}, \"DidYouKnowGaming?']\": {'Dark Souls': 1}, \"Tiops']\": {'Dark Souls': 1}, \"BitielAventura']\": {'Dark Souls': 1}, \"RedDeadPanda']\": {'Dark Souls': 2}, \"???????? ????']\": {'Dark Souls': 1}, \"Carnate']\": {'Dark Souls': 1}, \"OMG GAMES']\": {'Dark Souls': 1}, \"Jakir Channel']\": {'Dark Souls': 1}, \"GameDayIroda']\": {'Dark Souls': 1}, \"FFLighto']\": {'Dark Souls': 1}, \"Wayne U']\": {'Dark Souls': 1}, \"Duke Wayne']\": {'Dark Souls': 1}, 'Dodger\\'s Twitch Streams (unofficial)\"]': {'Dark Souls': 1}, \"PLAYERINSIDE']\": {'Dark Souls': 1}, \"ROFL CHANNEL']\": {'Dark Souls': 1}, \"23edsa']\": {'Dark Souls': 1}, \"Mano770']\": {'Dark Souls': 1}, \"NoMoreCopyright']\": {'Dark Souls': 1}, \"Stranded Orange']\": {'Dark Souls': 3}, \"Sir Fist']\": {'Dark Souls': 1}, \"Tartarus Cast']\": {'Dark Souls': 1}, \"Cinamer']\": {'Dark Souls': 1}, \"itpedia']\": {'Dark Souls': 1}, \"Atlas']\": {'Dark Souls': 1}, \"Thijs']\": {'Dark Souls': 1}, \"DaniJunny']\": {'Dark Souls': 1}, \"DMenor11']\": {'Dark Souls': 1}, \"HIKARO']\": {'Dark Souls': 1}, \"BaleHTIIIH']\": {'Dark Souls': 1}, \"Sterakdary']\": {'Dark Souls': 3}, \"The Professor']\": {'Dark Souls': 1}, \"Maskit Vape']\": {'Dark Souls': 1}, \"??????? — ???????????? ????? ???????????']\": {'Dark Souls': 1}, \"AlltimeGaming']\": {'Dark Souls': 1}, \"Naito75']\": {'Dark Souls': 1}, \"Ally Mushka']\": {'Dark Souls': 2}, \"Softonic']\": {'Dark Souls': 2}, \"9th TEARDROP GameTeller']\": {'Dark Souls': 2}, \"Francisco Beltrán']\": {'Dark Souls': 1}, \"Keyblade']\": {'Dark Souls': 1}, \"????? ???????']\": {'Dark Souls': 1}, \"Demonidias']\": {'Dark Souls': 1}, \"NGrant']\": {'Dark Souls': 1}, \"Lekker spelen']\": {'Dark Souls': 1}, \"Narehop']\": {'Dark Souls': 1}, \"Marcin Jaskólski']\": {'Dark Souls': 1}, \"Rocket Beans TV Gaming']\": {'Dark Souls': 1}, \"More Games-More Fuun']\": {'Dark Souls': 1}, \"Tamás Horváth']\": {'Dark Souls': 1}, \"TheFrankoFactor']\": {'Dark Souls': 1}, \"??????? ????????']\": {'Dark Souls': 1}, \"The Leaderboard']\": {'Dark Souls': 1}, \"Cero Games']\": {'Dark Souls': 1}, \"MaddyStream']\": {'Dark Souls': 1}, \"doraiba']\": {'Dark Souls': 1}, \"tubegameplayerAnna']\": {'Dark Souls': 1}, \"JanTattoo']\": {'Dark Souls': 1}, \"?????? ???']\": {'Dark Souls': 3}, \"Skrai [Aranfara]']\": {'Dark Souls': 1}, \"ND Play']\": {'Dark Souls': 1}, \"Crestfallen']\": {'Dark Souls': 1}, \"Mpv Films']\": {'Dark Souls': 1}, \"Santzo84']\": {'Dark Souls': 1}, \"MRDOMI']\": {'Dark Souls': 1}, \"Cyber_Ninja']\": {'Dark Souls': 1}, \"?????? ??']\": {'Dark Souls': 1}, \"Elajjaz']\": {'Dark Souls': 1}, \"Muzska89']\": {'Dark Souls': 7}, 'StallordD\"]': {'Dark Souls': 1}, \"Jacky tori']\": {'Dark Souls': 1}, \"zoikoikum']\": {'Dark Souls': 1}, \"Zorman World']\": {'Dark Souls': 3}, \"saselandia']\": {'Dark Souls': 1}, \"Gianandrea Muià']\": {'Dark Souls': 1}, \"El Gamer Friki']\": {'Dark Souls': 1}, \"DariyaWillis']\": {'Dark Souls': 1}, \"General Sam']\": {'Dark Souls': 1}, \"neotorious']\": {'Dark Souls': 1}, \"chirola666']\": {'Dark Souls': 1}, \"Sanadsk']\": {'Dark Souls': 1}, \"MarioInATopHat']\": {'Dark Souls': 1}, \"VeLiD']\": {'Dark Souls': 1}, \"SrockJohnny']\": {'Dark Souls': 1}, \"NESblog / Speed Game']\": {'Dark Souls': 5}, \"Filipe Ramos']\": {'Dark Souls': 4}, \"Coisa de Nerd']\": {'Dark Souls': 1}, \"Bes Poleznyi']\": {'Dark Souls': 1}, \"BrotWurst']\": {'Dark Souls': 1}, \"Will MaX']\": {'Dark Souls': 6}, \"GameSpot']\": {'Dark Souls': 1}, \"Maddyblog']\": {'Dark Souls': 1}, \"Dmitry Puchkov']\": {'Dark Souls': 1}, \"SerValt']\": {'Dark Souls': 1}, \"Wismichu']\": {'Dark Souls': 1}, \"AIENKEI']\": {'Dark Souls': 1}, \"alioli']\": {'Dark Souls': 1}, 'Filipe Ramos\"]': {'Dark Souls': 1}, \"3GordosB']\": {'Dark Souls': 1}, \"MegaGlowen']\": {'Dark Souls': 1}, 'PietSmiet\"]': {'Dark Souls': 1}, \"LobosJr']\": {'Dark Souls': 14}, \"Smosh Games']\": {'Dark Souls': 1}, 'HDblog-Games\"]': {'Dark Souls': 1}, 'WhyMe758\"]': {'Dark Souls': 2}, \"soylent hills']\": {'Dark Souls': 1}, \"DaveControl']\": {'Dark Souls': 1}, \"omeleteve']\": {'Dark Souls': 1}, \"SpeedDemosArchiveSDA']\": {'Dark Souls': 1}, 'Sabaku no Maiku\"]': {'Dark Souls': 3}, 'VaatiVidya\"]': {'Dark Souls': 2}, \"FlashWarrior ?????? ?? ?????']\": {'Dark Souls': 1}, \"y3tube']\": {'Dark Souls': 1}, 'Ttanoraa\"]': {'Dark Souls': 1}, \"VaatiVidya']\": {'Dark Souls': 3}, \"Blarzek']\": {'Dark Souls': 1}, \"Eligorko']\": {'Dark Souls': 2}}\n"
     ]
    }
   ],
   "source": [
    "# Test function\n",
    "return_dict = {}\n",
    "re7_dict = retrieve_data('re7_v2.csv', \"RE7\")\n",
    "return_dict.update(re7_dict)\n",
    "ds_dict = retrieve_data('darksouls_v1.csv', \"Dark Souls\")\n",
    "return_dict = update_dict(return_dict, ds_dict)\n",
    "print(return_dict)"
   ]
  },
  {
   "cell_type": "code",
   "execution_count": null,
   "metadata": {
    "collapsed": true
   },
   "outputs": [],
   "source": []
  }
 ],
 "metadata": {
  "kernelspec": {
   "display_name": "Python 3",
   "language": "python",
   "name": "python3"
  },
  "language_info": {
   "codemirror_mode": {
    "name": "ipython",
    "version": 3
   },
   "file_extension": ".py",
   "mimetype": "text/x-python",
   "name": "python",
   "nbconvert_exporter": "python",
   "pygments_lexer": "ipython3",
   "version": "3.6.3"
  }
 },
 "nbformat": 4,
 "nbformat_minor": 2
}
